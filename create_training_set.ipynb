{
 "cells": [
  {
   "cell_type": "markdown",
   "id": "967e2e2b",
   "metadata": {},
   "source": [
    "# Create training set based on Faitelson's tweets and replies"
   ]
  },
  {
   "cell_type": "code",
   "execution_count": 2,
   "id": "2981f51a",
   "metadata": {},
   "outputs": [],
   "source": [
    "import pandas as pd"
   ]
  },
  {
   "cell_type": "code",
   "execution_count": 3,
   "id": "74b798f3",
   "metadata": {},
   "outputs": [],
   "source": [
    "from parse_tweets import *"
   ]
  },
  {
   "cell_type": "code",
   "execution_count": 4,
   "id": "0b89e34d",
   "metadata": {},
   "outputs": [],
   "source": [
    "tweets = pd.read_csv(\"david_faitelson_tweets.csv\",dtype={\"tweet_id\":\"str\"}).drop_duplicates(subset=\"tweet_id\",keep=\"first\").reset_index(drop=True)\n",
    "replies = pd.read_csv(\"replies.csv\",dtype={\"tweet_id\":\"str\",\"reply_id\":\"str\"}).drop_duplicates(subset=[\"tweet_id\",'text'],keep=\"first\").loc[lambda x: x.tweet_id!=x.reply_id].reset_index(drop=True)"
   ]
  },
  {
   "cell_type": "code",
   "execution_count": 5,
   "id": "a2edaa45",
   "metadata": {},
   "outputs": [
    {
     "name": "stdout",
     "output_type": "stream",
     "text": [
      "Total tweets: 3,974\n",
      "Total replies: 89,697\n"
     ]
    }
   ],
   "source": [
    "print(f\"Total tweets: {tweets.shape[0]:,.0f}\")\n",
    "print(f\"Total replies: {replies.shape[0]:,.0f}\")"
   ]
  },
  {
   "cell_type": "code",
   "execution_count": 6,
   "id": "42523b46",
   "metadata": {},
   "outputs": [],
   "source": [
    "tweets['date'] = tweets.text.map(get_date)\n",
    "tweets['user'] = tweets.text.map(get_user)\n",
    "tweets['tweet'] = tweets.text.map(format_text)\n",
    "\n",
    "replies['date'] = replies.text.map(get_date)\n",
    "replies['user'] = replies.text.map(get_user)\n",
    "replies['tweet'] = replies.text.map(format_text)"
   ]
  },
  {
   "cell_type": "code",
   "execution_count": 7,
   "id": "6a7fd676",
   "metadata": {},
   "outputs": [],
   "source": [
    "replies['tweet_date'] = replies.tweet_id.map(tweets.set_index(\"tweet_id\").date)"
   ]
  },
  {
   "cell_type": "code",
   "execution_count": 8,
   "id": "f6298597",
   "metadata": {},
   "outputs": [],
   "source": [
    "key_words_by_subject = {\n",
    "    \"punch\":\n",
    "        ['putazo','vergazo','madrazo','chingadazo','puño',\"tortazo\",\"sopla\",\"moco\",'gancho','golpe'],\n",
    "    \"cuauhtemoc\":\n",
    "        ['tepito','joroba','divo','cuau','cuauhtemoc','blanco','cuernavaca','dromedario','camello','cuello','white',\"morelos\",\"tlatoani\",'emperador'],\n",
    "    \"time_and_location\":\n",
    "        ['veracruz','vera','tarde','puerto','pirata',\"ventana\",\"vestidor\",\"jarocho\",\"jarocha\",\"2003\",'heroico'],\n",
    "    \"recipient\":\n",
    "        ['papada','cachete','mandibula','quijada']\n",
    "}"
   ]
  },
  {
   "cell_type": "code",
   "execution_count": 9,
   "id": "e3df8c8a",
   "metadata": {},
   "outputs": [
    {
     "data": {
      "text/plain": [
       "39"
      ]
     },
     "execution_count": 9,
     "metadata": {},
     "output_type": "execute_result"
    }
   ],
   "source": [
    "key_words = [x.lower()\n",
    " for sublist in key_words_by_subject.values()\n",
    " for x in sublist]\n",
    "\n",
    "len(key_words)"
   ]
  },
  {
   "cell_type": "code",
   "execution_count": 10,
   "id": "3fa970e0",
   "metadata": {},
   "outputs": [],
   "source": [
    "replies['keep'] = replies['tweet'].str.lower().apply(lambda txt: any(word in txt for word in key_words))"
   ]
  },
  {
   "cell_type": "code",
   "execution_count": 11,
   "id": "3a1015f3",
   "metadata": {},
   "outputs": [
    {
     "name": "stdout",
     "output_type": "stream",
     "text": [
      "Total replies of interest: 22,232\n",
      "Percentage of replies of interest: 24.8%\n"
     ]
    }
   ],
   "source": [
    "print(f\"Total replies of interest: {replies.keep.sum():,.0f}\")\n",
    "print(f\"Percentage of replies of interest: {replies.keep.sum()/replies.shape[0]:.1%}\")"
   ]
  },
  {
   "cell_type": "code",
   "execution_count": 12,
   "id": "b8f62fcc",
   "metadata": {},
   "outputs": [
    {
     "data": {
      "text/plain": [
       "(3582, 3974)"
      ]
     },
     "execution_count": 12,
     "metadata": {},
     "output_type": "execute_result"
    }
   ],
   "source": [
    "used_tweets = replies[replies.keep].tweet_id.unique()\n",
    "len(used_tweets),tweets.tweet_id.nunique()"
   ]
  },
  {
   "cell_type": "code",
   "execution_count": 13,
   "id": "29f29a2e",
   "metadata": {},
   "outputs": [
    {
     "name": "stdout",
     "output_type": "stream",
     "text": [
      "(22232, 10)\n"
     ]
    }
   ],
   "source": [
    "df = tweets[tweets.tweet_id.isin(used_tweets)].merge(replies[replies.keep].drop([\"tweet_date\",'keep'],axis=1),on=\"tweet_id\",how=\"left\")\n",
    "# df['tweet_x']=df['tweet_x']+\"\\nRespuesta graciosa:\"\n",
    "print(df.shape)\n",
    "assert df.tweet_id.nunique()==len(used_tweets)"
   ]
  },
  {
   "cell_type": "markdown",
   "id": "468af6de",
   "metadata": {},
   "source": [
    "Remove Hashtags at the end, so the model does not learn this"
   ]
  },
  {
   "cell_type": "code",
   "execution_count": 14,
   "id": "6ba826b8",
   "metadata": {},
   "outputs": [],
   "source": [
    "df = df.sample(frac=1, random_state=42)\n",
    "\n",
    "for i in range(5):\n",
    "  mask = df.tweet_y.str.split().str[-1].str[:1]==\"#\"\n",
    "  df['tweet_y'] = df.tweet_y.mask(mask,lambda x: x.str.replace(r'\\s+\\S+$', '', regex=True))"
   ]
  },
  {
   "cell_type": "code",
   "execution_count": 15,
   "id": "9c128cdc",
   "metadata": {},
   "outputs": [
    {
     "data": {
      "text/html": [
       "<div>\n",
       "<style scoped>\n",
       "    .dataframe tbody tr th:only-of-type {\n",
       "        vertical-align: middle;\n",
       "    }\n",
       "\n",
       "    .dataframe tbody tr th {\n",
       "        vertical-align: top;\n",
       "    }\n",
       "\n",
       "    .dataframe thead th {\n",
       "        text-align: right;\n",
       "    }\n",
       "</style>\n",
       "<table border=\"1\" class=\"dataframe\">\n",
       "  <thead>\n",
       "    <tr style=\"text-align: right;\">\n",
       "      <th></th>\n",
       "      <th>tweet_id</th>\n",
       "      <th>text_x</th>\n",
       "      <th>date_x</th>\n",
       "      <th>user_x</th>\n",
       "      <th>tweet_x</th>\n",
       "      <th>reply_id</th>\n",
       "      <th>text_y</th>\n",
       "      <th>date_y</th>\n",
       "      <th>user_y</th>\n",
       "      <th>tweet_y</th>\n",
       "    </tr>\n",
       "  </thead>\n",
       "  <tbody>\n",
       "    <tr>\n",
       "      <th>3352</th>\n",
       "      <td>1011669571131052032</td>\n",
       "      <td>David Faitelson\\n@DavidFaitelson_\\n·\\nJun 26, ...</td>\n",
       "      <td>2018-06-26</td>\n",
       "      <td>@DavidFaitelson_</td>\n",
       "      <td>El uniforme nigeriano ya se “robó” la jornada ...</td>\n",
       "      <td>1011671561294827520</td>\n",
       "      <td>Serna\\n@Vctornegro10ho1\\n·\\nJun 26, 2018\\n#Put...</td>\n",
       "      <td>2018-06-26</td>\n",
       "      <td>@Vctornegro10ho1</td>\n",
       "      <td>#Putazo</td>\n",
       "    </tr>\n",
       "    <tr>\n",
       "      <th>9812</th>\n",
       "      <td>1314441583865991169</td>\n",
       "      <td>David Faitelson\\n@DavidFaitelson_\\n·\\nOct 9, 2...</td>\n",
       "      <td>2020-10-09</td>\n",
       "      <td>@DavidFaitelson_</td>\n",
       "      <td>#LetsGoYankees\\nQuote\\nEl Taquero OG\\n@Nacion_...</td>\n",
       "      <td>1314557673707245568</td>\n",
       "      <td>Miguel Gómez Osorio\\n@MiguelGomez_Os\\n·\\nOct 9...</td>\n",
       "      <td>2020-10-09</td>\n",
       "      <td>@MiguelGomez_Os</td>\n",
       "      <td>#LetsGoCamello</td>\n",
       "    </tr>\n",
       "    <tr>\n",
       "      <th>20547</th>\n",
       "      <td>1448857287573921792</td>\n",
       "      <td>David Faitelson\\n@DavidFaitelson_\\n·\\nOct 14, ...</td>\n",
       "      <td>2021-10-14</td>\n",
       "      <td>@DavidFaitelson_</td>\n",
       "      <td>Replying to\\n@Nacion_Taquero\\n#BeatLA</td>\n",
       "      <td>1448857427806466074</td>\n",
       "      <td>Sexpulvinismo-Swinger\\n@AzulNoMas1\\n·\\nOct 14,...</td>\n",
       "      <td>2021-10-14</td>\n",
       "      <td>@AzulNoMas1</td>\n",
       "      <td>#Putazo</td>\n",
       "    </tr>\n",
       "  </tbody>\n",
       "</table>\n",
       "</div>"
      ],
      "text/plain": [
       "                  tweet_id                                             text_x  \\\n",
       "3352   1011669571131052032  David Faitelson\\n@DavidFaitelson_\\n·\\nJun 26, ...   \n",
       "9812   1314441583865991169  David Faitelson\\n@DavidFaitelson_\\n·\\nOct 9, 2...   \n",
       "20547  1448857287573921792  David Faitelson\\n@DavidFaitelson_\\n·\\nOct 14, ...   \n",
       "\n",
       "          date_x            user_x  \\\n",
       "3352  2018-06-26  @DavidFaitelson_   \n",
       "9812  2020-10-09  @DavidFaitelson_   \n",
       "20547 2021-10-14  @DavidFaitelson_   \n",
       "\n",
       "                                                 tweet_x             reply_id  \\\n",
       "3352   El uniforme nigeriano ya se “robó” la jornada ...  1011671561294827520   \n",
       "9812   #LetsGoYankees\\nQuote\\nEl Taquero OG\\n@Nacion_...  1314557673707245568   \n",
       "20547              Replying to\\n@Nacion_Taquero\\n#BeatLA  1448857427806466074   \n",
       "\n",
       "                                                  text_y     date_y  \\\n",
       "3352   Serna\\n@Vctornegro10ho1\\n·\\nJun 26, 2018\\n#Put... 2018-06-26   \n",
       "9812   Miguel Gómez Osorio\\n@MiguelGomez_Os\\n·\\nOct 9... 2020-10-09   \n",
       "20547  Sexpulvinismo-Swinger\\n@AzulNoMas1\\n·\\nOct 14,... 2021-10-14   \n",
       "\n",
       "                 user_y         tweet_y  \n",
       "3352   @Vctornegro10ho1         #Putazo  \n",
       "9812    @MiguelGomez_Os  #LetsGoCamello  \n",
       "20547       @AzulNoMas1         #Putazo  "
      ]
     },
     "execution_count": 15,
     "metadata": {},
     "output_type": "execute_result"
    }
   ],
   "source": [
    "df[df.tweet_y.str.split().str[-1].str[:1]==\"#\"]"
   ]
  },
  {
   "cell_type": "code",
   "execution_count": 16,
   "id": "ce0644d8",
   "metadata": {},
   "outputs": [],
   "source": [
    "df.drop(df[df.tweet_y.str.split().str[-1].str[:1]==\"#\"].index,axis=0,inplace=True)"
   ]
  },
  {
   "cell_type": "markdown",
   "id": "99be6f1d",
   "metadata": {},
   "source": [
    "Remove replies that have GIFs"
   ]
  },
  {
   "cell_type": "code",
   "execution_count": 17,
   "id": "56fb67ae",
   "metadata": {},
   "outputs": [
    {
     "data": {
      "text/plain": [
       "tweet_y\n",
       "GIF    164\n",
       "Name: count, dtype: int64"
      ]
     },
     "execution_count": 17,
     "metadata": {},
     "output_type": "execute_result"
    }
   ],
   "source": [
    "df[df.tweet_y.str.upper().str.contains(\"GIF\")].tweet_y.str.split().str[-1].value_counts()"
   ]
  },
  {
   "cell_type": "code",
   "execution_count": 18,
   "id": "3ce45626",
   "metadata": {},
   "outputs": [],
   "source": [
    "df['tweet_y'] = df.tweet_y.mask(df.tweet_y.str.endswith(\"\\nGIF\"),df.tweet_y.str[:-4])"
   ]
  },
  {
   "cell_type": "code",
   "execution_count": 19,
   "id": "74bd5adf",
   "metadata": {},
   "outputs": [
    {
     "name": "stdout",
     "output_type": "stream",
     "text": [
      "Final shape: (22229, 10)\n"
     ]
    }
   ],
   "source": [
    "print(f\"Final shape: {df.shape}\")"
   ]
  },
  {
   "cell_type": "code",
   "execution_count": 20,
   "id": "9d033b55",
   "metadata": {},
   "outputs": [],
   "source": [
    "cutoff_date = \"2022-01-01\""
   ]
  },
  {
   "cell_type": "code",
   "execution_count": 25,
   "id": "fc88e3d5",
   "metadata": {},
   "outputs": [],
   "source": [
    "df.drop(df[df.tweet_x.map(has_url) | df.tweet_y.map(has_url)].index,axis=0,inplace=True)"
   ]
  },
  {
   "cell_type": "code",
   "execution_count": 27,
   "id": "847d64a0",
   "metadata": {},
   "outputs": [],
   "source": [
    "df[df.date_x<cutoff_date].to_csv(\"training_set.csv\",index=False)\n",
    "df[df.date_x>=cutoff_date].to_csv(\"validation_set.csv\",index=False)"
   ]
  },
  {
   "cell_type": "code",
   "execution_count": null,
   "id": "e643f751",
   "metadata": {},
   "outputs": [],
   "source": []
  }
 ],
 "metadata": {
  "kernelspec": {
   "display_name": "faitelbot",
   "language": "python",
   "name": "python3"
  },
  "language_info": {
   "codemirror_mode": {
    "name": "ipython",
    "version": 3
   },
   "file_extension": ".py",
   "mimetype": "text/x-python",
   "name": "python",
   "nbconvert_exporter": "python",
   "pygments_lexer": "ipython3",
   "version": "3.10.18"
  }
 },
 "nbformat": 4,
 "nbformat_minor": 5
}
