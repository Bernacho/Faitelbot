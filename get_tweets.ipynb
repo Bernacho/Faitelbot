{
 "cells": [
  {
   "cell_type": "markdown",
   "id": "df341ac2",
   "metadata": {},
   "source": [
    "# Twitter web scrapper\n",
    "\n",
    "We will utilize Selenium and undetected_chromedriver to perform this task."
   ]
  },
  {
   "cell_type": "code",
   "execution_count": 1,
   "id": "64877206",
   "metadata": {},
   "outputs": [],
   "source": [
    "import undetected_chromedriver as uc\n",
    "from selenium.webdriver.common.by import By\n",
    "from selenium.webdriver.common.keys import Keys\n",
    "import random\n",
    "import numpy as np\n",
    "import time\n",
    "import csv\n",
    "from dotenv import load_dotenv\n",
    "import os"
   ]
  },
  {
   "cell_type": "code",
   "execution_count": 2,
   "id": "b7f6899f",
   "metadata": {},
   "outputs": [],
   "source": [
    "load_dotenv()\n",
    "\n",
    "TWITTER_USER = os.getenv(\"TWITTER_USER\")\n",
    "TWITTER_PASS = os.getenv(\"TWITTER_PASS\")"
   ]
  },
  {
   "cell_type": "code",
   "execution_count": 3,
   "id": "51145fdc",
   "metadata": {},
   "outputs": [],
   "source": [
    "\n",
    "# --- Setup undetected Chrome ---\n",
    "options = uc.ChromeOptions()\n",
    "# options.add_argument(\"--headless\")  # Optional for silent mode\n",
    "driver = uc.Chrome(options=options,version_main=137)\n",
    "\n",
    "driver.maximize_window()\n"
   ]
  },
  {
   "cell_type": "code",
   "execution_count": 4,
   "id": "7887ee65",
   "metadata": {},
   "outputs": [],
   "source": [
    "def log_in(driver):\n",
    "    # --- Login to Twitter ---\n",
    "    driver.get(\"https://x.com/login\")\n",
    "    time.sleep(5)\n",
    "\n",
    "    username_input = driver.find_element(By.NAME, \"text\")\n",
    "    username_input.send_keys(TWITTER_USER)\n",
    "    username_input.send_keys(Keys.RETURN)\n",
    "    time.sleep(3)\n",
    "\n",
    "    # Optional extra check\n",
    "    try:\n",
    "        confirm_user = driver.find_element(By.NAME, \"text\")\n",
    "        confirm_user.send_keys(TWITTER_USER)\n",
    "        confirm_user.send_keys(Keys.RETURN)\n",
    "        time.sleep(3)\n",
    "    except:\n",
    "        pass\n",
    "\n",
    "    password_input = driver.find_element(By.NAME, \"password\")\n",
    "    password_input.send_keys(TWITTER_PASS)\n",
    "    password_input.send_keys(Keys.RETURN)\n",
    "    time.sleep(5)"
   ]
  },
  {
   "cell_type": "code",
   "execution_count": 7,
   "id": "a2995967",
   "metadata": {},
   "outputs": [],
   "source": [
    "log_in(driver)"
   ]
  },
  {
   "cell_type": "code",
   "execution_count": 17,
   "id": "88d38a32",
   "metadata": {},
   "outputs": [],
   "source": [
    "from tqdm.notebook import tqdm\n",
    "from IPython.display import clear_output"
   ]
  },
  {
   "cell_type": "code",
   "execution_count": null,
   "id": "1f1bc5fa",
   "metadata": {},
   "outputs": [],
   "source": [
    "wait_seconds = list(np.arange(5,10))\n",
    "wait_short = list(np.arange(2,5))\n",
    "\n",
    "def search_faitel_tweets(since_,until_):\n",
    "    query = f\"from:DavidFaitelson_ since:{since_} until:{until_}\"\n",
    "    search_url = f\"https://x.com/search?q={query}&src=typed_query&f=live\"\n",
    "    driver.get(search_url)\n",
    "    time.sleep(random.choice(wait_seconds))\n",
    "\n",
    "    for _ in range(3):\n",
    "        driver.execute_script(\"window.scrollTo(0, document.body.scrollHeight);\")\n",
    "        time.sleep(random.choice(wait_short))\n",
    "\n",
    "    tweets = driver.find_elements(By.XPATH, '//article[@data-testid=\"tweet\"]')\n",
    "    results = []\n",
    "\n",
    "    for tweet in tweets:\n",
    "        try:\n",
    "            content = tweet.text\n",
    "            link = tweet.find_element(By.XPATH, './/a[contains(@href, \"/status/\")]')\n",
    "            tweet_url = link.get_attribute('href')\n",
    "            tweet_id = tweet_url.split(\"/\")[-1]\n",
    "            results.append({\"tweet_id\": tweet_id, \"text\": content})\n",
    "        except Exception as e:\n",
    "            print(\"Skipped a tweet due to error:\", e)\n",
    "\n",
    "    filename = \"david_faitelson_tweets.csv\"\n",
    "    with open(filename, \"a\", newline=\"\", encoding=\"utf-8\") as file:\n",
    "        writer = csv.DictWriter(file, fieldnames=[\"tweet_id\", \"text\"])\n",
    "        writer.writerows(results)\n",
    "\n",
    "    return len(results)\n",
    "\n"
   ]
  },
  {
   "cell_type": "code",
   "execution_count": 20,
   "id": "33fdbab5",
   "metadata": {},
   "outputs": [],
   "source": [
    "import sys\n",
    "import calendar"
   ]
  },
  {
   "cell_type": "code",
   "execution_count": null,
   "id": "b57dd2ca",
   "metadata": {},
   "outputs": [
    {
     "name": "stdout",
     "output_type": "stream",
     "text": [
      "\n",
      "✅ Done! Saved 2 since: 2022-01-01 until: 2022-01-10. Total: 2\n",
      "✅ Done! Saved 24 since: 2022-01-11 until: 2022-01-20. Total: 26\n",
      "✅ Done! Saved 21 since: 2022-01-21 until: 2022-01-31. Total: 47\n",
      "✅ Done! Saved 18 since: 2022-02-01 until: 2022-02-10. Total: 65\n",
      "✅ Done! Saved 28 since: 2022-02-11 until: 2022-02-20. Total: 93\n",
      "✅ Done! Saved 23 since: 2022-02-21 until: 2022-02-28. Total: 116\n",
      "✅ Done! Saved 18 since: 2022-03-01 until: 2022-03-10. Total: 134\n",
      "✅ Done! Saved 20 since: 2022-03-11 until: 2022-03-20. Total: 154\n",
      "✅ Done! Saved 23 since: 2022-03-21 until: 2022-03-31. Total: 177\n",
      "✅ Done! Saved 25 since: 2022-04-01 until: 2022-04-10. Total: 202\n",
      "✅ Done! Saved 26 since: 2022-04-11 until: 2022-04-20. Total: 228\n",
      "✅ Done! Saved 0 since: 2022-04-21 until: 2022-04-30. Total: 228\n",
      "✅ Done! Saved 0 since: 2022-05-01 until: 2022-05-10. Total: 228\n",
      "✅ Done! Saved 0 since: 2022-05-11 until: 2022-05-20. Total: 228\n",
      "✅ Done! Saved 0 since: 2022-05-21 until: 2022-05-31. Total: 228\n",
      " Retrying 5 2022\n",
      "✅ Done! Saved 0 since: 2022-05-01 until: 2022-05-10. Total: 228\n",
      "✅ Done! Saved 0 since: 2022-05-11 until: 2022-05-20. Total: 228\n",
      "✅ Done! Saved 0 since: 2022-05-21 until: 2022-05-31. Total: 228\n",
      " Retrying 5 2022\n",
      "✅ Done! Saved 25 since: 2022-05-01 until: 2022-05-10. Total: 253\n",
      "✅ Done! Saved 25 since: 2022-05-11 until: 2022-05-20. Total: 278\n",
      "✅ Done! Saved 24 since: 2022-05-21 until: 2022-05-31. Total: 302\n",
      "✅ Done! Saved 21 since: 2022-06-01 until: 2022-06-10. Total: 323\n",
      "✅ Done! Saved 18 since: 2022-06-11 until: 2022-06-20. Total: 341\n",
      "✅ Done! Saved 21 since: 2022-06-21 until: 2022-06-30. Total: 362"
     ]
    },
    {
     "ename": "KeyboardInterrupt",
     "evalue": "",
     "output_type": "error",
     "traceback": [
      "\u001b[1;31m---------------------------------------------------------------------------\u001b[0m",
      "\u001b[1;31mKeyboardInterrupt\u001b[0m                         Traceback (most recent call last)",
      "Cell \u001b[1;32mIn[14], line 12\u001b[0m\n\u001b[0;32m     10\u001b[0m s \u001b[38;5;241m=\u001b[39m \u001b[38;5;124mf\u001b[39m\u001b[38;5;124m\"\u001b[39m\u001b[38;5;132;01m{\u001b[39;00my\u001b[38;5;132;01m}\u001b[39;00m\u001b[38;5;124m-\u001b[39m\u001b[38;5;132;01m{\u001b[39;00mm_text\u001b[38;5;132;01m}\u001b[39;00m\u001b[38;5;124m-01\u001b[39m\u001b[38;5;124m\"\u001b[39m\n\u001b[0;32m     11\u001b[0m u \u001b[38;5;241m=\u001b[39m \u001b[38;5;124mf\u001b[39m\u001b[38;5;124m\"\u001b[39m\u001b[38;5;132;01m{\u001b[39;00my\u001b[38;5;132;01m}\u001b[39;00m\u001b[38;5;124m-\u001b[39m\u001b[38;5;132;01m{\u001b[39;00mm_text\u001b[38;5;132;01m}\u001b[39;00m\u001b[38;5;124m-10\u001b[39m\u001b[38;5;124m\"\u001b[39m\n\u001b[1;32m---> 12\u001b[0m c \u001b[38;5;241m=\u001b[39m \u001b[43msearch_faitel_tweets\u001b[49m\u001b[43m(\u001b[49m\u001b[43ms\u001b[49m\u001b[43m,\u001b[49m\u001b[43mu\u001b[49m\u001b[43m)\u001b[49m\n\u001b[0;32m     13\u001b[0m all_tweets \u001b[38;5;241m+\u001b[39m\u001b[38;5;241m=\u001b[39m c\n\u001b[0;32m     14\u001b[0m iter_c \u001b[38;5;241m+\u001b[39m\u001b[38;5;241m=\u001b[39m c\n",
      "Cell \u001b[1;32mIn[11], line 14\u001b[0m, in \u001b[0;36msearch_faitel_tweets\u001b[1;34m(since_, until_)\u001b[0m\n\u001b[0;32m     12\u001b[0m \u001b[38;5;28;01mfor\u001b[39;00m _ \u001b[38;5;129;01min\u001b[39;00m \u001b[38;5;28mrange\u001b[39m(\u001b[38;5;241m3\u001b[39m):\n\u001b[0;32m     13\u001b[0m     driver\u001b[38;5;241m.\u001b[39mexecute_script(\u001b[38;5;124m\"\u001b[39m\u001b[38;5;124mwindow.scrollTo(0, document.body.scrollHeight);\u001b[39m\u001b[38;5;124m\"\u001b[39m)\n\u001b[1;32m---> 14\u001b[0m     \u001b[43mtime\u001b[49m\u001b[38;5;241;43m.\u001b[39;49m\u001b[43msleep\u001b[49m\u001b[43m(\u001b[49m\u001b[43mrandom\u001b[49m\u001b[38;5;241;43m.\u001b[39;49m\u001b[43mchoice\u001b[49m\u001b[43m(\u001b[49m\u001b[43mwait_short\u001b[49m\u001b[43m)\u001b[49m\u001b[43m)\u001b[49m\n\u001b[0;32m     16\u001b[0m \u001b[38;5;66;03m# --- Extract tweets ---\u001b[39;00m\n\u001b[0;32m     17\u001b[0m tweets \u001b[38;5;241m=\u001b[39m driver\u001b[38;5;241m.\u001b[39mfind_elements(By\u001b[38;5;241m.\u001b[39mXPATH, \u001b[38;5;124m'\u001b[39m\u001b[38;5;124m//article[@data-testid=\u001b[39m\u001b[38;5;124m\"\u001b[39m\u001b[38;5;124mtweet\u001b[39m\u001b[38;5;124m\"\u001b[39m\u001b[38;5;124m]\u001b[39m\u001b[38;5;124m'\u001b[39m)\n",
      "\u001b[1;31mKeyboardInterrupt\u001b[0m: "
     ]
    }
   ],
   "source": [
    "all_tweets = 0\n",
    "# for y in np.arange(2019,2022):\n",
    "for y in [2022]:\n",
    "    for m in np.arange(1,13):\n",
    "        iter_c = 0\n",
    "        while True:\n",
    "            \n",
    "            m_text = (\"0\" if m<10 else \"\")+str(m)\n",
    "            s = f\"{y}-{m_text}-01\"\n",
    "            u = f\"{y}-{m_text}-10\"\n",
    "            c = search_faitel_tweets(s,u)\n",
    "            all_tweets += c\n",
    "            iter_c += c\n",
    "            sys.stdout.write(f\"\\n✅ Done! Saved {c} since: {s} until: {u}. Total: {all_tweets}\")\n",
    "            sys.stdout.flush()\n",
    "\n",
    "            s = f\"{y}-{m_text}-11\"\n",
    "            u = f\"{y}-{m_text}-20\"\n",
    "            c = search_faitel_tweets(s,u)\n",
    "            all_tweets += c\n",
    "            iter_c += c\n",
    "            sys.stdout.write(f\"\\n✅ Done! Saved {c} since: {s} until: {u}. Total: {all_tweets}\")\n",
    "            sys.stdout.flush()\n",
    "\n",
    "            s = f\"{y}-{m_text}-21\"\n",
    "            last_day = calendar.monthrange(y, m)[1]\n",
    "            u = f\"{y}-{m_text}-{last_day}\"\n",
    "            c = search_faitel_tweets(s,u)\n",
    "            all_tweets += c\n",
    "            iter_c += c\n",
    "            sys.stdout.write(f\"\\n✅ Done! Saved {c} since: {s} until: {u}. Total: {all_tweets}\")\n",
    "            sys.stdout.flush()\n",
    "\n",
    "            if iter_c==0:\n",
    "                sys.stdout.write(f\"\\n Retrying {m} {y}\")\n",
    "                sys.stdout.flush()\n",
    "                time.sleep(5*60)\n",
    "            else:\n",
    "                break"
   ]
  },
  {
   "cell_type": "code",
   "execution_count": 11,
   "id": "bdae2a40",
   "metadata": {},
   "outputs": [],
   "source": [
    "driver.quit()"
   ]
  },
  {
   "cell_type": "code",
   "execution_count": null,
   "id": "cbf5429f",
   "metadata": {},
   "outputs": [],
   "source": [
    "def read_replies(driver,tweet_id):\n",
    "    # Open the tweet\n",
    "    url = f\"https://x.com/DavidFaitelson_/status/{tweet_id}\"\n",
    "    driver.get(url)\n",
    "\n",
    "    # Wait for replies to load\n",
    "    time.sleep(7)\n",
    "\n",
    "    # Scroll \n",
    "    for _ in range(1):\n",
    "        driver.execute_script(\"window.scrollTo(0, document.body.scrollHeight);\")\n",
    "        time.sleep(random.choice(wait_short))\n",
    "\n",
    "    tws = driver.find_elements(By.XPATH, '//article[@data-testid=\"tweet\"]')\n",
    "    results = []\n",
    "\n",
    "    for tweet in tws:\n",
    "        try:\n",
    "            content = tweet.text\n",
    "            link = tweet.find_element(By.XPATH, './/a[contains(@href, \"/status/\")]')\n",
    "            tweet_url = link.get_attribute('href')\n",
    "            reply_id = tweet_url.split(\"/\")[-1]\n",
    "            \n",
    "            results.append({\"tweet_id\":tweet_id, \"reply_id\": reply_id, \"text\": content})\n",
    "        except Exception as e:\n",
    "            print(\"Skipped a tweet due to error:\", e)\n",
    "\n",
    "\n",
    "    with open('replies.csv', mode='a', newline='', encoding='utf-8') as file:\n",
    "        writer = csv.DictWriter(file, fieldnames=[\"tweet_id\",\"reply_id\", \"text\"])\n",
    "        writer.writerows(results)\n",
    "\n",
    "    return len(results)\n",
    "            "
   ]
  },
  {
   "cell_type": "code",
   "execution_count": 6,
   "id": "932c3be2",
   "metadata": {},
   "outputs": [],
   "source": [
    "import pandas as pd"
   ]
  },
  {
   "cell_type": "code",
   "execution_count": 17,
   "id": "8fc4d703",
   "metadata": {},
   "outputs": [
    {
     "name": "stdout",
     "output_type": "stream",
     "text": [
      "(4205, 2)\n"
     ]
    },
    {
     "data": {
      "text/html": [
       "<div>\n",
       "<style scoped>\n",
       "    .dataframe tbody tr th:only-of-type {\n",
       "        vertical-align: middle;\n",
       "    }\n",
       "\n",
       "    .dataframe tbody tr th {\n",
       "        vertical-align: top;\n",
       "    }\n",
       "\n",
       "    .dataframe thead th {\n",
       "        text-align: right;\n",
       "    }\n",
       "</style>\n",
       "<table border=\"1\" class=\"dataframe\">\n",
       "  <thead>\n",
       "    <tr style=\"text-align: right;\">\n",
       "      <th></th>\n",
       "      <th>tweet_id</th>\n",
       "      <th>text</th>\n",
       "    </tr>\n",
       "  </thead>\n",
       "  <tbody>\n",
       "    <tr>\n",
       "      <th>0</th>\n",
       "      <td>1225506069386055680</td>\n",
       "      <td>David Faitelson\\n@DavidFaitelson_\\n·\\nFeb 6, 2...</td>\n",
       "    </tr>\n",
       "    <tr>\n",
       "      <th>1</th>\n",
       "      <td>1225501059793158145</td>\n",
       "      <td>David Faitelson\\n@DavidFaitelson_\\n·\\nFeb 6, 2...</td>\n",
       "    </tr>\n",
       "    <tr>\n",
       "      <th>2</th>\n",
       "      <td>1225499608165556226</td>\n",
       "      <td>David Faitelson\\n@DavidFaitelson_\\n·\\nFeb 6, 2...</td>\n",
       "    </tr>\n",
       "    <tr>\n",
       "      <th>3</th>\n",
       "      <td>1225490334878175233</td>\n",
       "      <td>David Faitelson\\n@DavidFaitelson_\\n·\\nFeb 6, 2...</td>\n",
       "    </tr>\n",
       "    <tr>\n",
       "      <th>4</th>\n",
       "      <td>1225489331420356609</td>\n",
       "      <td>David Faitelson\\n@DavidFaitelson_\\n·\\nFeb 6, 2...</td>\n",
       "    </tr>\n",
       "  </tbody>\n",
       "</table>\n",
       "</div>"
      ],
      "text/plain": [
       "              tweet_id                                               text\n",
       "0  1225506069386055680  David Faitelson\\n@DavidFaitelson_\\n·\\nFeb 6, 2...\n",
       "1  1225501059793158145  David Faitelson\\n@DavidFaitelson_\\n·\\nFeb 6, 2...\n",
       "2  1225499608165556226  David Faitelson\\n@DavidFaitelson_\\n·\\nFeb 6, 2...\n",
       "3  1225490334878175233  David Faitelson\\n@DavidFaitelson_\\n·\\nFeb 6, 2...\n",
       "4  1225489331420356609  David Faitelson\\n@DavidFaitelson_\\n·\\nFeb 6, 2..."
      ]
     },
     "execution_count": 17,
     "metadata": {},
     "output_type": "execute_result"
    }
   ],
   "source": [
    "tweets =pd.read_csv(\"david_faitelson_tweets.csv\",dtype={\"tweet_id\":\"str\"})\n",
    "print(tweets.shape)\n",
    "tweets.head()"
   ]
  },
  {
   "cell_type": "code",
   "execution_count": 18,
   "id": "e18a80ed",
   "metadata": {},
   "outputs": [
    {
     "data": {
      "text/plain": [
       "'David Faitelson\\n@DavidFaitelson_\\n·\\nJun 21, 2022\\nReplying to \\n@jsanchez_w\\n and \\n@TUDNMEX\\nAbrazo, Jorge, mi más sentido pésame…\\n1\\n57'"
      ]
     },
     "execution_count": 18,
     "metadata": {},
     "output_type": "execute_result"
    }
   ],
   "source": [
    "tweets.iloc[-1].text"
   ]
  },
  {
   "cell_type": "code",
   "execution_count": null,
   "id": "e32b5ec1",
   "metadata": {},
   "outputs": [],
   "source": [
    "rets = pd.read_csv(\"replies.csv\",dtype={\"tweet_id\":\"str\",\"reply_id\":\"str\"})\n",
    "f = pd.read_csv(\"david_faitelson_tweets.csv\",dtype={\"tweet_id\":\"str\"})\n",
    "last_tweet_id = f[f.tweet_id==rets.iloc[-1].tweet_id].index[0]\n",
    "last_tweet_id"
   ]
  },
  {
   "cell_type": "code",
   "execution_count": null,
   "id": "908a64db",
   "metadata": {},
   "outputs": [],
   "source": [
    "all_replies = 0\n",
    "faitel_tweets = tweets.iloc[last_tweet_id+1:]\n",
    "for i,t in tqdm(faitel_tweets.iterrows(),total=len(faitel_tweets),desc=\"Processing\"):\n",
    "    c = read_replies(driver,t.tweet_id)\n",
    "    all_replies+=c\n",
    "    sys.stdout.write(f'\\r✅ Done! Saved {c} replies. Total: {all_replies}')\n",
    "    sys.stdout.flush()"
   ]
  },
  {
   "cell_type": "code",
   "execution_count": 24,
   "id": "5b171048",
   "metadata": {},
   "outputs": [],
   "source": [
    "driver.close()"
   ]
  },
  {
   "cell_type": "code",
   "execution_count": null,
   "id": "d53e2d20",
   "metadata": {},
   "outputs": [],
   "source": []
  },
  {
   "cell_type": "code",
   "execution_count": 11,
   "id": "eb2c1328",
   "metadata": {},
   "outputs": [
    {
     "name": "stdout",
     "output_type": "stream",
     "text": [
      "Faitel tweets 3974 Replies 85134\n"
     ]
    }
   ],
   "source": [
    "replies = pd.read_csv(\"replies.csv\",dtype={\"tweet_id\":'str','reply_id':\"str\"})\n",
    "faitel_tweets = pd.read_csv(\"david_faitelson_tweets.csv\",dtype={\"tweet_id\":'str'})\n",
    "faitel_tweets.drop_duplicates(subset=\"tweet_id\",keep=\"first\",inplace=True)\n",
    "print(f\"Faitel tweets {faitel_tweets.shape[0]}\",f\"Replies {replies.shape[0]}\")"
   ]
  },
  {
   "cell_type": "code",
   "execution_count": 12,
   "id": "7c553943",
   "metadata": {},
   "outputs": [],
   "source": [
    "from datetime import datetime\n",
    "\n",
    "def is_valid_date(text):\n",
    "    try:\n",
    "        datetime.strptime(text, \"%b %d, %Y\")\n",
    "        return True\n",
    "    except ValueError:\n",
    "        try: \n",
    "            cleaned = text.replace('·', '').strip()\n",
    "            datetime.strptime(cleaned, \"%I:%M %p %b %d, %Y\")\n",
    "            return True\n",
    "        except ValueError:\n",
    "            return False\n",
    "\n",
    "def get_user(text):\n",
    "    rows = text.split(\"\\n\")\n",
    "    for r in rows:\n",
    "        if \"@\"==r.strip()[:1]:\n",
    "            return r.strip()\n",
    "    return None\n",
    "\n",
    "def format_text(text):\n",
    "    invalid_text = [\".\",\"·\",\"Translate post\"]\n",
    "    rows = text.split(\"\\n\")\n",
    "    res = []\n",
    "    for t in rows[2:]:\n",
    "        t = t.strip()\n",
    "        if (is_valid_date(t)==False) & (t.isnumeric()==False) & ((t in invalid_text)==False):\n",
    "            res.append(t)\n",
    "    return \"\\n\".join(res)"
   ]
  },
  {
   "cell_type": "code",
   "execution_count": 10,
   "id": "336999eb",
   "metadata": {},
   "outputs": [],
   "source": [
    "replies['user'] = replies.text.map(get_user)\n",
    "replies['tweet_text'] = replies.text.map(format_text)"
   ]
  },
  {
   "cell_type": "code",
   "execution_count": 13,
   "id": "aaeaf055",
   "metadata": {},
   "outputs": [],
   "source": [
    "replies_by_tweet = replies[replies.tweet_id!=replies.reply_id].groupby(\"tweet_id\").size()"
   ]
  },
  {
   "cell_type": "code",
   "execution_count": 14,
   "id": "ef28c84a",
   "metadata": {},
   "outputs": [
    {
     "data": {
      "text/plain": [
       "tweet_id\n",
       "1004506165126938624    27\n",
       "1004509850804424704    35\n",
       "1004557419677126664    20\n",
       "1004582036303241216    32\n",
       "1004583057138036736    25\n",
       "                       ..\n",
       "999772267016994817      7\n",
       "999785561547128834     35\n",
       "999788684437217281     29\n",
       "999790742473093120     26\n",
       "999848407433793538     15\n",
       "Length: 3597, dtype: int64"
      ]
     },
     "execution_count": 14,
     "metadata": {},
     "output_type": "execute_result"
    }
   ],
   "source": [
    "replies_by_tweet"
   ]
  },
  {
   "cell_type": "code",
   "execution_count": 15,
   "id": "713939c2",
   "metadata": {},
   "outputs": [
    {
     "data": {
      "text/plain": [
       "(377, 2)"
      ]
     },
     "execution_count": 15,
     "metadata": {},
     "output_type": "execute_result"
    }
   ],
   "source": [
    "missing_tweets = faitel_tweets[~faitel_tweets.tweet_id.isin(replies_by_tweet.index)]\n",
    "missing_tweets.shape"
   ]
  },
  {
   "cell_type": "code",
   "execution_count": 22,
   "id": "7826c9b1",
   "metadata": {},
   "outputs": [
    {
     "data": {
      "application/vnd.jupyter.widget-view+json": {
       "model_id": "0d96e6ddc1764ebd83af2288828f9cb4",
       "version_major": 2,
       "version_minor": 0
      },
      "text/plain": [
       "Processing:   0%|          | 0/377 [00:00<?, ?it/s]"
      ]
     },
     "metadata": {},
     "output_type": "display_data"
    },
    {
     "name": "stdout",
     "output_type": "stream",
     "text": [
      "✅ Done! Saved 2 replies. Total: 68131"
     ]
    }
   ],
   "source": [
    "all_replies = 0\n",
    "\n",
    "for i,t in tqdm(missing_tweets.iterrows(),total=len(missing_tweets),desc=\"Processing\"):\n",
    "    tries =1\n",
    "    while True:\n",
    "        c = read_replies(driver,t.tweet_id)\n",
    "        if (c==0) and (tries==1):\n",
    "            tries+=1\n",
    "            sys.stdout.write(f'\\r✅ Retrying tweet {t.tweet_id}')\n",
    "            sys.stdout.flush()\n",
    "            time.sleep(315)\n",
    "        else:\n",
    "            break\n",
    "\n",
    "    all_replies+=c\n",
    "    sys.stdout.write(f'\\r✅ Done! Saved {c} replies. Total: {all_replies}')\n",
    "    sys.stdout.flush()"
   ]
  },
  {
   "cell_type": "code",
   "execution_count": 23,
   "id": "0ff7c5c8",
   "metadata": {},
   "outputs": [],
   "source": [
    "driver.close()"
   ]
  }
 ],
 "metadata": {
  "kernelspec": {
   "display_name": "faitelbot",
   "language": "python",
   "name": "python3"
  },
  "language_info": {
   "codemirror_mode": {
    "name": "ipython",
    "version": 3
   },
   "file_extension": ".py",
   "mimetype": "text/x-python",
   "name": "python",
   "nbconvert_exporter": "python",
   "pygments_lexer": "ipython3",
   "version": "3.10.18"
  }
 },
 "nbformat": 4,
 "nbformat_minor": 5
}
